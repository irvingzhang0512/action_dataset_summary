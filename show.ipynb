{
 "metadata": {
  "language_info": {
   "codemirror_mode": {
    "name": "ipython",
    "version": 3
   },
   "file_extension": ".py",
   "mimetype": "text/x-python",
   "name": "python",
   "nbconvert_exporter": "python",
   "pygments_lexer": "ipython3",
   "version": "3.6.10-final"
  },
  "orig_nbformat": 2,
  "kernelspec": {
   "name": "python361064bitzyytoolconda1784f6cf1397454d9413d4b7a1fcdacd",
   "display_name": "Python 3.6.10 64-bit ('zyy_tool': conda)"
  }
 },
 "nbformat": 4,
 "nbformat_minor": 2,
 "cells": [
  {
   "cell_type": "code",
   "execution_count": null,
   "metadata": {},
   "outputs": [],
   "source": [
    "import os\n",
    "import cv2\n",
    "from IPython.display import clear_output, display\n",
    "from IPython.display import Image as IPyImage\n",
    "from PIL import Image, ImageFont, ImageDraw\n",
    "import numpy as np\n",
    "import time\n",
    "\n",
    "\n",
    "qualify_feedback_file = \"quality_feedback.csv\"\n",
    "video_path = \"./renames/step1\""
   ]
  },
  {
   "cell_type": "code",
   "execution_count": null,
   "metadata": {},
   "outputs": [],
   "source": [
    "# 获取所有已有视频，构建字典\n",
    "# key 为 `{pid}_{camera}_{action}`\n",
    "# vavlue 为对应视频的路径\n",
    "video_index_name_to_full_path_dict = {}\n",
    "for dirname, _, file_names in os.walk(video_path):\n",
    "    for file_name in file_names:\n",
    "        if not file_name.endswith(\".mp4\"):\n",
    "            continue\n",
    "        row = file_name.split('_')\n",
    "        key = row[-1][:5] + '_' + row[1] + '_' + row[0]\n",
    "        video_index_name_to_full_path_dict[key] = os.path.join(dirname, file_name)"
   ]
  },
  {
   "cell_type": "code",
   "execution_count": null,
   "metadata": {},
   "outputs": [],
   "source": [
    "actions_chinese_to_english_dict = {\n",
    "    # 跌倒类型\n",
    "    \"原地软倒\": \"stillfall\",\n",
    "    \"行进软倒\": \"walkingfall\",\n",
    "    \"推倒\": \"pushoverfall\",\n",
    "    \"绊倒\": \"tripfall\",\n",
    "\n",
    "    # 其他动作\n",
    "    \"吃药\": \"medicine\",\n",
    "    \"吃饭\": \"eating\",\n",
    "    \"喝水\": \"drinking\",\n",
    "    \"拿手机\": \"takephone\",\n",
    "    \"拿水杯\": \"takecup\",\n",
    "    \"磕碰\": \"knock\",\n",
    "    \"关门\": \"close\",\n",
    "    \"开门\": \"open\",\n",
    "}"
   ]
  },
  {
   "cell_type": "code",
   "execution_count": null,
   "metadata": {},
   "outputs": [],
   "source": [
    "with open(qualify_feedback_file, 'r') as f:\n",
    "    lines = f.readlines()\n",
    "useless_list = []\n",
    "remade_list = []\n",
    "typo_list = []\n",
    "\n",
    "sample_type = -1\n",
    "for line in lines:\n",
    "    if line.startswith(\"无效数据\"):\n",
    "        sample_type = 1\n",
    "    elif line.startswith(\"需要返工\"):\n",
    "        sample_type = 2\n",
    "    elif line.startswith(\"有小问题\"):\n",
    "        sample_type = 3\n",
    "    elif line.startswith(\"P\"):\n",
    "        row = line.split(\" \")\n",
    "        key = row[0] + '_' + actions_chinese_to_english_dict[row[1]]\n",
    "        details = line\n",
    "        pair = (video_index_name_to_full_path_dict[key], details)\n",
    "        if sample_type == 1:\n",
    "            useless_list.append(pair)\n",
    "        elif sample_type == 2:\n",
    "            remade_list.append(pair)\n",
    "        elif sample_type == 3:\n",
    "            typo_list.append(pair)"
   ]
  },
  {
   "cell_type": "code",
   "execution_count": null,
   "metadata": {},
   "outputs": [],
   "source": [
    "def _add_chinese_in_image(img, context, color=(255, 0, 0)):\n",
    "    img = cv2.cvtColor(img, cv2.COLOR_BGR2RGB)\n",
    "    img = Image.fromarray(np.array(img))\n",
    "\n",
    "    draw = ImageDraw.Draw(img)\n",
    "    font = ImageFont.truetype(\"MSYH.TTF\", 20, encoding=\"utf-8\")\n",
    "    draw.text((0, 0), context, color, font=font)\n",
    "\n",
    "    img = cv2.cvtColor(np.array(img), cv2.COLOR_RGB2BGR)\n",
    "    return img\n",
    "\n",
    "def _process_img(img, img_type='.jpg'):\n",
    "    ret, img = cv2.imencode(img_type, img)\n",
    "    # encoded = base64.b64encode(img)\n",
    "    return IPyImage(data=img)\n",
    "\n",
    "# img = _add_chinese_in_image(cv2.imread('./1.png'), \"测试\")\n",
    "# display(_process_img(img))"
   ]
  },
  {
   "cell_type": "code",
   "execution_count": null,
   "metadata": {
    "tags": []
   },
   "outputs": [],
   "source": [
    "def display_single_video(video_path, context, color=(255, 0, 0), resize_size=(720, 480)):\n",
    "    cap = cv2.VideoCapture(video_path)\n",
    "    if not cap.isOpened():\n",
    "        print('video {} doesn\\'t exists.'.format(video_path))\n",
    "        return\n",
    "    while True:\n",
    "        ret, frame = cap.read()\n",
    "        if not ret:\n",
    "            break\n",
    "        clear_output()\n",
    "        if resize_size is not None:\n",
    "            frame = cv2.resize(frame, resize_size)\n",
    "        display(_process_img(_add_chinese_in_image(frame, context, color)))\n",
    "        time.sleep(0.1)\n",
    "    cap.release()"
   ]
  },
  {
   "cell_type": "code",
   "execution_count": null,
   "metadata": {},
   "outputs": [],
   "source": [
    "for sample in useless_list:\n",
    "    display_single_video(sample[0], sample[1])"
   ]
  },
  {
   "cell_type": "code",
   "execution_count": null,
   "metadata": {},
   "outputs": [],
   "source": [
    "for sample in remade_list:\n",
    "    display_single_video(sample[0], sample[1])"
   ]
  },
  {
   "cell_type": "code",
   "execution_count": null,
   "metadata": {},
   "outputs": [],
   "source": []
  }
 ]
}